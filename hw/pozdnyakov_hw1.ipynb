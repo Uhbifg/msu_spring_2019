{
 "cells": [
  {
   "cell_type": "markdown",
   "metadata": {},
   "source": [
    "**Общая информация**\n",
    "\n",
    "**Срок сдачи:** 20 марта 2019, 06:00 <br\\>\n",
    "**Штраф за опоздание:** -1 балл после 06:00 20 марта, -2 балла после 06:00 27 марта, -3 балла после 06:00 3 апреля\n",
    "\n",
    "При отправлении ДЗ указывайте фамилию в названии файла\n",
    "Присылать ДЗ необходимо в виде ссылки на свой github репозиторий в slack @alkhamush\n",
    "\n",
    "Необходимо в slack скинуть ссылку в личный чат @alkhamush\n",
    "Пример ссылки:\n",
    "https://github.com/stroykova/spheremailru/stroykova_hw1.ipynb \n",
    "\n",
    "\n",
    "Используйте данный Ipython Notebook при оформлении домашнего задания."
   ]
  },
  {
   "cell_type": "markdown",
   "metadata": {},
   "source": [
    "###### Задание 1 (2 баллов)\n",
    "Реализовать KNN в классе MyKNeighborsClassifier (обязательное условие: точность не ниже sklearn реализации)\n",
    "Разберитесь самостоятельно, какая мера расстояния используется в KNeighborsClassifier дефолтно и реализуйте свой алгоритм именно с этой мерой. Самостоятельно разберитесь, как считается score из KNeighborsClassifier и реализуйте аналог в своём классе. Score не должен уступать значению KNN из sklearn\n",
    "\n",
    "###### Задание 2 (2 балла)\n",
    "Добиться скорости работы на fit,  predict и predict_proba сравнимой со sklearn для iris и mnist\n",
    "Для этого используем numpy\n",
    "\n",
    "###### Задание 3 (2 балла)\n",
    "Для iris найдите такой параметр n_neighbors, при котором выдаётся наилучший score. Нарисуйте график зависимости score от n_neighbors\n",
    "\n",
    "###### Задание 4 (3 балла)\n",
    "Добавить algorithm='kd_tree' в реализацию KNN (использовать KDTree из sklearn.neighbors). Значение n_neighbors нужно взять из задания 3. Добиться скорости работы на fit,  predict и predict_proba сравнимой со sklearn для iris и mnist\n",
    "Для этого используем numpy. Score не должен уступать значению KNN из sklearn\n",
    "\n",
    "###### Задание 5 (1 балла)\n",
    "Описать для чего нужны следующие библиотеки/классы/функции (список будет ниже)\n",
    "\n",
    "**Штрафные баллы:**\n",
    "\n",
    "1. Невыполнение PEP8 -1 балл\n",
    "2. Отсутствие фамилии в имени скрипта (скрипт должен называться по аналогии со stroykova_hw1.ipynb) -1 балл\n",
    "3. Все строчки должны быть выполнены. Нужно, чтобы output команды можно было увидеть уже в git'е. В противном случае -1 балл\n",
    "4. При оформлении ДЗ нужно пользоваться данным файлом в качестве шаблона. Не нужно удалять и видоизменять структуру кода и текст. В противном случае -1 балл\n"
   ]
  },
  {
   "cell_type": "code",
   "execution_count": 17,
   "metadata": {},
   "outputs": [
    {
     "name": "stdout",
     "output_type": "stream",
     "text": [
      "The pycodestyle_magic extension is already loaded. To reload it, use:\n",
      "  %reload_ext pycodestyle_magic\n"
     ]
    }
   ],
   "source": [
    "import numpy as np\n",
    "import matplotlib.pyplot as plt\n",
    "import seaborn as sns\n",
    "\n",
    "from scipy import stats\n",
    "from sklearn import datasets\n",
    "from sklearn.base import ClassifierMixin\n",
    "from sklearn.datasets import fetch_openml\n",
    "from sklearn.neighbors.base import NeighborsBase, KNeighborsMixin, SupervisedIntegerMixin \n",
    "from sklearn.model_selection import train_test_split\n",
    "from sklearn.neighbors import KNeighborsClassifier\n",
    "from sklearn.neighbors import KDTree\n",
    "%load_ext pycodestyle_magic"
   ]
  },
  {
   "cell_type": "code",
   "execution_count": 18,
   "metadata": {},
   "outputs": [],
   "source": [
    "##%%pycodestyle\n",
    "\n",
    "\n",
    "class MyKNeighborsClassifier(NeighborsBase, KNeighborsMixin,\n",
    "                             SupervisedIntegerMixin, ClassifierMixin):\n",
    "\n",
    "    def __init__(self, n_neighbors, algorithm='brute'):\n",
    "        self.k_neighbors = n_neighbors\n",
    "        self.algorithm = algorithm\n",
    "\n",
    "    def distance(self, X, Y):\n",
    "        x_distance = np.sum(X ** 2, axis=1).reshape(1, -1)\n",
    "        y_distance = np.sum(Y ** 2, axis=1).reshape(-1, 1)\n",
    "        distance = (x_distance - 2 * np.matmul(Y, X.T) + y_distance)\n",
    "        return distance\n",
    "\n",
    "    def fit(self, X, y):\n",
    "        if self.algorithm == 'brute':\n",
    "            self.features = np.asarray(X)\n",
    "            self.target = np.asarray(y, dtype=int)\n",
    "        elif self.algorithm == 'kd_tree':\n",
    "            self.tree = KDTree(X)\n",
    "            self.target = np.asarray(y, dtype=int)\n",
    "        else:\n",
    "            raise ValueError(\"Unknown algorithm\")\n",
    "        self.classes = np.unique(self.target)\n",
    "\n",
    "    def get_classes(self):\n",
    "        return self.classes\n",
    "\n",
    "    def kneighbors(self, X):\n",
    "        if self.algorithm == 'brute':\n",
    "            distance = self.distance(self.features, X)\n",
    "            k_index = np.argpartition(distance, self.k_neighbors)\n",
    "            k_index = k_index[:, :self.k_neighbors]\n",
    "        elif self.algorithm == 'kd_tree':\n",
    "            distance, k_index = self.tree.query(X, k=self.k_neighbors)\n",
    "        return k_index\n",
    "\n",
    "    def predict(self, X):\n",
    "        predictions = np.zeros(X.shape[0], dtype=int)\n",
    "        k_classes = self.target[self.kneighbors(X)]\n",
    "        for sample_index, sample in enumerate(self.kneighbors(X)):\n",
    "            predictions[sample_index] = stats.mode(\n",
    "                                    self.target[np.array(sample)]\n",
    "                                    ).mode[0]\n",
    "        return predictions\n",
    "\n",
    "    def predict_proba(self, X):\n",
    "        predictions = np.zeros((X.shape[0], self.classes.shape[0]))\n",
    "        k_classes = self.target[self.kneighbors(X)]\n",
    "        for i in range(k_classes.shape[0]):\n",
    "            for j in k_classes[i]:\n",
    "                predictions[i][j] += 1\n",
    "        predictions /= self.k_neighbors\n",
    "        return predictions\n",
    "\n",
    "    def score(self, X, y):\n",
    "        target, y = self.predict(X), np.asarray(y, dtype=int)\n",
    "        return np.average(target == y)"
   ]
  },
  {
   "cell_type": "markdown",
   "metadata": {},
   "source": [
    "**IRIS**"
   ]
  },
  {
   "cell_type": "code",
   "execution_count": 35,
   "metadata": {},
   "outputs": [],
   "source": [
    "iris = datasets.load_iris()"
   ]
  },
  {
   "cell_type": "code",
   "execution_count": 36,
   "metadata": {},
   "outputs": [],
   "source": [
    "X_train, X_test, y_train, y_test = train_test_split(iris.data, iris.target, test_size=0.1, stratify=iris.target)"
   ]
  },
  {
   "cell_type": "code",
   "execution_count": 37,
   "metadata": {},
   "outputs": [],
   "source": [
    "clf = KNeighborsClassifier(n_neighbors=3, algorithm='brute')\n",
    "my_clf = MyKNeighborsClassifier(n_neighbors=3)"
   ]
  },
  {
   "cell_type": "code",
   "execution_count": 38,
   "metadata": {},
   "outputs": [
    {
     "name": "stdout",
     "output_type": "stream",
     "text": [
      "Wall time: 0 ns\n"
     ]
    },
    {
     "data": {
      "text/plain": [
       "KNeighborsClassifier(algorithm='brute', leaf_size=30, metric='minkowski',\n",
       "           metric_params=None, n_jobs=None, n_neighbors=3, p=2,\n",
       "           weights='uniform')"
      ]
     },
     "execution_count": 38,
     "metadata": {},
     "output_type": "execute_result"
    }
   ],
   "source": [
    "%time clf.fit(X_train, y_train)"
   ]
  },
  {
   "cell_type": "code",
   "execution_count": 39,
   "metadata": {},
   "outputs": [
    {
     "name": "stdout",
     "output_type": "stream",
     "text": [
      "Wall time: 0 ns\n"
     ]
    }
   ],
   "source": [
    "%time my_clf.fit(X_train, y_train)"
   ]
  },
  {
   "cell_type": "code",
   "execution_count": 40,
   "metadata": {},
   "outputs": [
    {
     "name": "stdout",
     "output_type": "stream",
     "text": [
      "Wall time: 1 ms\n"
     ]
    },
    {
     "data": {
      "text/plain": [
       "array([2, 2, 2, 0, 1, 2, 2, 0, 1, 1, 0, 1, 1, 0, 0])"
      ]
     },
     "execution_count": 40,
     "metadata": {},
     "output_type": "execute_result"
    }
   ],
   "source": [
    "%time clf.predict(X_test)"
   ]
  },
  {
   "cell_type": "code",
   "execution_count": 41,
   "metadata": {},
   "outputs": [
    {
     "name": "stdout",
     "output_type": "stream",
     "text": [
      "Wall time: 3 ms\n"
     ]
    },
    {
     "data": {
      "text/plain": [
       "array([2, 2, 2, 0, 1, 2, 2, 0, 1, 1, 0, 1, 1, 0, 0])"
      ]
     },
     "execution_count": 41,
     "metadata": {},
     "output_type": "execute_result"
    }
   ],
   "source": [
    "%time my_clf.predict(X_test)"
   ]
  },
  {
   "cell_type": "code",
   "execution_count": 42,
   "metadata": {},
   "outputs": [
    {
     "name": "stdout",
     "output_type": "stream",
     "text": [
      "Wall time: 999 µs\n"
     ]
    },
    {
     "data": {
      "text/plain": [
       "array([[0., 0., 1.],\n",
       "       [0., 0., 1.],\n",
       "       [0., 0., 1.],\n",
       "       [1., 0., 0.],\n",
       "       [0., 1., 0.],\n",
       "       [0., 0., 1.],\n",
       "       [0., 0., 1.],\n",
       "       [1., 0., 0.],\n",
       "       [0., 1., 0.],\n",
       "       [0., 1., 0.],\n",
       "       [1., 0., 0.],\n",
       "       [0., 1., 0.],\n",
       "       [0., 1., 0.],\n",
       "       [1., 0., 0.],\n",
       "       [1., 0., 0.]])"
      ]
     },
     "execution_count": 42,
     "metadata": {},
     "output_type": "execute_result"
    }
   ],
   "source": [
    "%time clf.predict_proba(X_test)"
   ]
  },
  {
   "cell_type": "code",
   "execution_count": 43,
   "metadata": {},
   "outputs": [
    {
     "name": "stdout",
     "output_type": "stream",
     "text": [
      "Wall time: 0 ns\n"
     ]
    },
    {
     "data": {
      "text/plain": [
       "array([[0., 0., 1.],\n",
       "       [0., 0., 1.],\n",
       "       [0., 0., 1.],\n",
       "       [1., 0., 0.],\n",
       "       [0., 1., 0.],\n",
       "       [0., 0., 1.],\n",
       "       [0., 0., 1.],\n",
       "       [1., 0., 0.],\n",
       "       [0., 1., 0.],\n",
       "       [0., 1., 0.],\n",
       "       [1., 0., 0.],\n",
       "       [0., 1., 0.],\n",
       "       [0., 1., 0.],\n",
       "       [1., 0., 0.],\n",
       "       [1., 0., 0.]])"
      ]
     },
     "execution_count": 43,
     "metadata": {},
     "output_type": "execute_result"
    }
   ],
   "source": [
    "%time my_clf.predict_proba(X_test)"
   ]
  },
  {
   "cell_type": "code",
   "execution_count": 44,
   "metadata": {},
   "outputs": [
    {
     "data": {
      "text/plain": [
       "1.0"
      ]
     },
     "execution_count": 44,
     "metadata": {},
     "output_type": "execute_result"
    }
   ],
   "source": [
    "clf.score(X_test, y_test)"
   ]
  },
  {
   "cell_type": "code",
   "execution_count": 45,
   "metadata": {},
   "outputs": [
    {
     "data": {
      "text/plain": [
       "1.0"
      ]
     },
     "execution_count": 45,
     "metadata": {},
     "output_type": "execute_result"
    }
   ],
   "source": [
    "my_clf.score(X_test, y_test)"
   ]
  },
  {
   "cell_type": "markdown",
   "metadata": {},
   "source": [
    "Задание 3"
   ]
  },
  {
   "cell_type": "code",
   "execution_count": 46,
   "metadata": {},
   "outputs": [
    {
     "data": {
      "image/png": "[encoded data removed]",
      "text/plain": [
       "<Figure size 1080x288 with 1 Axes>"
      ]
     },
     "metadata": {
      "needs_background": "light"
     },
     "output_type": "display_data"
    },
    {
     "data": {
      "image/png": "[encoded data removed]",
      "text/plain": [
       "<Figure size 1080x288 with 1 Axes>"
      ]
     },
     "metadata": {
      "needs_background": "light"
     },
     "output_type": "display_data"
    },
    {
     "name": "stdout",
     "output_type": "stream",
     "text": [
      "Best n =  22\n"
     ]
    }
   ],
   "source": [
    "##%%pycodestyle\n",
    "%matplotlib inline\n",
    "\n",
    "\n",
    "def score_calculate(classifier, X_train, y_train, X_test, y_test, k):\n",
    "    clf = classifier(k)\n",
    "    clf.fit(X_train, y_train)\n",
    "    return clf.score(X_test, y_test)\n",
    "\n",
    "\n",
    "N = 45\n",
    "my_train_scores = np.zeros(N - 1)\n",
    "my_test_scores = np.zeros(N - 1)\n",
    "sk_train_scores = np.zeros(N - 1)\n",
    "sk_test_scores = np.zeros(N - 1)\n",
    "for k in range(1, N):\n",
    "    my_train_scores[k - 1] = score_calculate(MyKNeighborsClassifier,\n",
    "                                             X_train, y_train,\n",
    "                                             X_train, y_train, k)\n",
    "    my_test_scores[k - 1] = score_calculate(MyKNeighborsClassifier,\n",
    "                                            X_train, y_train,\n",
    "                                            X_test, y_test, k)\n",
    "    sk_train_scores[k - 1] = score_calculate(KNeighborsClassifier,\n",
    "                                             X_train, y_train,\n",
    "                                             X_train, y_train, k)\n",
    "    sk_test_scores[k - 1] = score_calculate(KNeighborsClassifier,\n",
    "                                            X_train, y_train,\n",
    "                                            X_test, y_test, k)\n",
    "\n",
    "plt.subplot(1, 2, 1)\n",
    "\n",
    "plt.title(\"sklearn_KNN\")\n",
    "plt.plot(range(1, N), sk_test_scores, label=\"test\", color=\"red\")\n",
    "plt.plot(range(1, N), sk_train_scores, label=\"train\", color=\"blue\")\n",
    "plt.xlabel('Neighbors')\n",
    "plt.ylabel('Score')\n",
    "plt.legend()\n",
    "plt.grid(color=\"grey\")\n",
    "fig = plt.gcf()\n",
    "fig.set_figwidth(15)\n",
    "plt.show()\n",
    "plt.title(\"My_KNN\")\n",
    "plt.plot(range(1, N), my_test_scores, label=\"test\", color=\"red\")\n",
    "plt.plot(range(1, N), my_train_scores, label=\"train\", color=\"blue\")\n",
    "plt.xlabel('Neighbors')\n",
    "plt.ylabel('Score')\n",
    "plt.legend()\n",
    "plt.grid(color=\"grey\")\n",
    "\n",
    "fig = plt.gcf()\n",
    "fig.set_figwidth(15)\n",
    "plt.show()\n",
    "Best_k = np.max(np.where(my_test_scores == np.max(my_test_scores)))\n",
    "print(\"Best n = \", Best_k)"
   ]
  },
  {
   "cell_type": "markdown",
   "metadata": {},
   "source": [
    "**MNIST**"
   ]
  },
  {
   "cell_type": "code",
   "execution_count": 47,
   "metadata": {},
   "outputs": [],
   "source": [
    "mnist = fetch_openml('mnist_784')"
   ]
  },
  {
   "cell_type": "code",
   "execution_count": 48,
   "metadata": {},
   "outputs": [],
   "source": [
    "X_train, X_test, y_train, y_test = train_test_split(mnist.data, mnist.target, test_size=0.01, stratify=mnist.target)"
   ]
  },
  {
   "cell_type": "code",
   "execution_count": 49,
   "metadata": {},
   "outputs": [],
   "source": [
    "clf = KNeighborsClassifier(n_neighbors=5)\n",
    "my_clf = MyKNeighborsClassifier(n_neighbors=5)"
   ]
  },
  {
   "cell_type": "code",
   "execution_count": 50,
   "metadata": {},
   "outputs": [
    {
     "name": "stdout",
     "output_type": "stream",
     "text": [
      "Wall time: 45.4 s\n"
     ]
    },
    {
     "data": {
      "text/plain": [
       "KNeighborsClassifier(algorithm='auto', leaf_size=30, metric='minkowski',\n",
       "           metric_params=None, n_jobs=None, n_neighbors=5, p=2,\n",
       "           weights='uniform')"
      ]
     },
     "execution_count": 50,
     "metadata": {},
     "output_type": "execute_result"
    }
   ],
   "source": [
    "%time clf.fit(X_train, y_train)"
   ]
  },
  {
   "cell_type": "code",
   "execution_count": 51,
   "metadata": {},
   "outputs": [
    {
     "name": "stdout",
     "output_type": "stream",
     "text": [
      "Wall time: 8.01 ms\n"
     ]
    }
   ],
   "source": [
    "%time my_clf.fit(X_train, y_train)"
   ]
  },
  {
   "cell_type": "code",
   "execution_count": 52,
   "metadata": {},
   "outputs": [
    {
     "name": "stdout",
     "output_type": "stream",
     "text": [
      "Wall time: 54.6 s\n"
     ]
    },
    {
     "data": {
      "text/plain": [
       "array(['9', '2', '7', '2', '5', '0', '1', '3', '3', '4', '6', '2', '8',\n",
       "       '9', '9', '7', '0', '4', '2', '5', '2', '9', '0', '3', '9', '9',\n",
       "       '9', '9', '3', '5', '5', '2', '6', '3', '0', '5', '3', '6', '7',\n",
       "       '9', '7', '1', '8', '3', '5', '1', '5', '7', '4', '3', '7', '2',\n",
       "       '8', '5', '4', '6', '5', '1', '8', '3', '7', '8', '2', '6', '3',\n",
       "       '4', '1', '9', '6', '0', '6', '4', '5', '3', '6', '6', '0', '7',\n",
       "       '8', '8', '6', '6', '4', '4', '6', '1', '0', '6', '6', '5', '0',\n",
       "       '3', '9', '7', '2', '8', '6', '0', '3', '7', '5', '6', '6', '7',\n",
       "       '4', '5', '8', '5', '2', '5', '4', '4', '6', '0', '4', '2', '3',\n",
       "       '5', '5', '0', '0', '6', '1', '4', '6', '7', '6', '8', '8', '0',\n",
       "       '4', '4', '2', '1', '5', '6', '7', '2', '0', '2', '7', '8', '2',\n",
       "       '0', '5', '2', '1', '3', '3', '7', '3', '6', '2', '4', '9', '9',\n",
       "       '0', '1', '1', '2', '2', '7', '1', '1', '5', '9', '1', '1', '7',\n",
       "       '9', '0', '7', '4', '6', '4', '9', '8', '7', '2', '3', '4', '8',\n",
       "       '1', '9', '8', '0', '4', '6', '8', '9', '8', '2', '1', '3', '4',\n",
       "       '7', '1', '0', '8', '0', '1', '2', '6', '0', '3', '3', '5', '5',\n",
       "       '2', '3', '7', '2', '7', '9', '8', '5', '1', '2', '6', '3', '9',\n",
       "       '0', '3', '2', '9', '3', '7', '8', '2', '4', '8', '2', '8', '0',\n",
       "       '0', '5', '4', '1', '8', '5', '2', '1', '4', '9', '8', '5', '9',\n",
       "       '6', '9', '6', '0', '1', '3', '2', '0', '9', '8', '9', '1', '6',\n",
       "       '5', '6', '4', '8', '2', '7', '5', '5', '3', '9', '1', '0', '0',\n",
       "       '5', '2', '8', '4', '1', '4', '0', '6', '3', '9', '1', '2', '3',\n",
       "       '8', '8', '0', '0', '4', '3', '1', '5', '3', '4', '6', '2', '2',\n",
       "       '1', '8', '0', '0', '8', '6', '1', '0', '6', '2', '6', '7', '5',\n",
       "       '6', '2', '7', '7', '4', '0', '0', '4', '6', '8', '0', '7', '1',\n",
       "       '7', '6', '4', '1', '0', '8', '1', '3', '4', '2', '6', '2', '6',\n",
       "       '2', '8', '9', '1', '5', '1', '1', '2', '7', '6', '8', '5', '0',\n",
       "       '4', '1', '1', '9', '4', '0', '1', '9', '6', '1', '2', '1', '6',\n",
       "       '9', '0', '2', '4', '0', '8', '4', '7', '6', '7', '9', '1', '4',\n",
       "       '7', '8', '9', '2', '6', '5', '7', '1', '9', '4', '2', '0', '5',\n",
       "       '6', '1', '8', '1', '1', '5', '5', '5', '7', '7', '9', '7', '9',\n",
       "       '7', '2', '3', '5', '4', '7', '9', '2', '7', '1', '9', '0', '8',\n",
       "       '5', '2', '9', '2', '9', '3', '6', '3', '9', '6', '0', '0', '1',\n",
       "       '0', '7', '6', '8', '5', '0', '8', '7', '1', '6', '3', '7', '4',\n",
       "       '6', '4', '7', '9', '3', '4', '1', '5', '3', '1', '3', '0', '0',\n",
       "       '2', '3', '1', '4', '4', '4', '7', '3', '2', '1', '6', '4', '3',\n",
       "       '7', '6', '2', '0', '5', '2', '9', '8', '3', '9', '6', '5', '9',\n",
       "       '7', '5', '9', '8', '8', '3', '2', '8', '8', '1', '3', '0', '8',\n",
       "       '1', '4', '9', '5', '1', '5', '4', '8', '8', '5', '1', '6', '4',\n",
       "       '0', '4', '5', '3', '3', '2', '3', '7', '1', '4', '3', '6', '3',\n",
       "       '6', '6', '3', '1', '4', '2', '8', '5', '0', '4', '3', '3', '7',\n",
       "       '7', '6', '8', '9', '5', '7', '3', '1', '5', '1', '2', '4', '9',\n",
       "       '3', '5', '6', '1', '3', '6', '7', '9', '0', '1', '9', '4', '1',\n",
       "       '4', '3', '0', '9', '7', '2', '4', '0', '8', '9', '9', '9', '7',\n",
       "       '4', '2', '1', '4', '9', '7', '7', '2', '7', '9', '4', '3', '9',\n",
       "       '3', '2', '7', '4', '0', '9', '1', '6', '8', '7', '1', '2', '3',\n",
       "       '8', '7', '2', '6', '7', '1', '3', '1', '6', '3', '9', '2', '8',\n",
       "       '0', '0', '7', '9', '0', '9', '7', '1', '9', '8', '7', '0', '1',\n",
       "       '4', '1', '8', '7', '9', '0', '5', '2', '0', '0', '3', '0', '1',\n",
       "       '8', '2', '1', '6', '2', '9', '7', '7', '6', '8', '3', '7', '5',\n",
       "       '0', '6', '1', '6', '3', '1', '1', '2', '4', '5', '1', '8', '5',\n",
       "       '1', '2', '4', '9', '5', '5', '3', '5', '0', '5', '5', '4', '7',\n",
       "       '1', '9', '7', '5', '9', '8', '9', '5', '8', '2', '3', '6', '9',\n",
       "       '3', '1', '9', '1', '0', '3', '1', '0', '7', '3', '3'],\n",
       "      dtype=object)"
      ]
     },
     "execution_count": 52,
     "metadata": {},
     "output_type": "execute_result"
    }
   ],
   "source": [
    "%time clf.predict(X_test)"
   ]
  },
  {
   "cell_type": "code",
   "execution_count": 53,
   "metadata": {},
   "outputs": [
    {
     "name": "stdout",
     "output_type": "stream",
     "text": [
      "Wall time: 6.13 s\n"
     ]
    },
    {
     "data": {
      "text/plain": [
       "array([9, 2, 7, 2, 5, 0, 1, 3, 3, 4, 6, 2, 8, 9, 9, 7, 0, 4, 2, 5, 2, 9,\n",
       "       0, 3, 9, 9, 9, 9, 3, 5, 5, 2, 6, 3, 0, 5, 3, 6, 7, 9, 7, 1, 8, 3,\n",
       "       5, 1, 5, 7, 4, 3, 7, 2, 8, 5, 4, 6, 5, 1, 8, 3, 7, 8, 2, 6, 3, 4,\n",
       "       1, 9, 6, 0, 6, 4, 5, 3, 6, 6, 0, 7, 8, 8, 6, 6, 4, 4, 6, 1, 0, 6,\n",
       "       6, 5, 0, 3, 9, 7, 2, 8, 6, 0, 3, 7, 5, 6, 6, 7, 4, 5, 8, 5, 2, 5,\n",
       "       4, 4, 6, 0, 4, 2, 3, 5, 5, 0, 0, 6, 1, 4, 6, 7, 6, 8, 8, 0, 4, 4,\n",
       "       2, 1, 5, 6, 7, 2, 0, 2, 7, 8, 2, 0, 5, 2, 1, 3, 3, 7, 3, 6, 2, 4,\n",
       "       9, 9, 0, 1, 1, 2, 2, 7, 1, 1, 5, 9, 1, 1, 7, 9, 0, 7, 4, 6, 4, 9,\n",
       "       8, 7, 2, 3, 4, 8, 1, 9, 8, 0, 4, 6, 8, 9, 8, 2, 1, 3, 4, 7, 1, 0,\n",
       "       8, 0, 1, 2, 6, 0, 3, 3, 5, 5, 2, 3, 7, 2, 7, 9, 8, 5, 1, 2, 6, 3,\n",
       "       9, 0, 3, 2, 9, 3, 7, 8, 2, 4, 8, 2, 8, 0, 0, 5, 4, 1, 8, 5, 2, 1,\n",
       "       4, 9, 8, 5, 9, 6, 9, 6, 0, 1, 3, 2, 0, 9, 8, 9, 1, 6, 5, 6, 4, 8,\n",
       "       2, 7, 5, 5, 3, 9, 1, 0, 0, 5, 2, 8, 4, 1, 4, 0, 6, 3, 9, 1, 2, 3,\n",
       "       8, 8, 0, 0, 4, 3, 1, 5, 3, 4, 6, 2, 2, 1, 8, 0, 0, 8, 6, 1, 0, 6,\n",
       "       2, 6, 7, 5, 6, 2, 7, 7, 4, 0, 0, 4, 6, 8, 0, 7, 1, 7, 6, 4, 1, 0,\n",
       "       8, 1, 3, 4, 2, 6, 2, 6, 2, 8, 9, 1, 5, 1, 1, 2, 7, 6, 8, 5, 0, 4,\n",
       "       1, 1, 9, 4, 0, 1, 9, 6, 1, 2, 1, 6, 9, 0, 2, 4, 0, 8, 4, 7, 6, 7,\n",
       "       9, 1, 4, 7, 8, 9, 2, 6, 5, 7, 1, 9, 4, 2, 0, 5, 6, 1, 8, 1, 1, 5,\n",
       "       5, 5, 7, 7, 9, 7, 9, 7, 2, 3, 5, 4, 7, 9, 2, 7, 1, 9, 0, 8, 5, 2,\n",
       "       9, 2, 9, 3, 6, 3, 9, 6, 0, 0, 1, 0, 7, 6, 8, 5, 0, 8, 7, 1, 6, 3,\n",
       "       7, 4, 6, 4, 7, 9, 3, 4, 1, 5, 3, 1, 3, 0, 0, 2, 3, 1, 4, 4, 4, 7,\n",
       "       3, 2, 1, 6, 4, 3, 7, 6, 2, 0, 5, 2, 9, 8, 3, 9, 6, 5, 9, 7, 5, 9,\n",
       "       8, 8, 3, 2, 8, 8, 1, 3, 0, 8, 1, 4, 9, 5, 1, 5, 4, 8, 8, 5, 1, 6,\n",
       "       4, 0, 4, 5, 3, 3, 2, 3, 7, 1, 4, 3, 6, 3, 6, 6, 3, 1, 4, 2, 8, 5,\n",
       "       0, 4, 3, 3, 7, 7, 6, 8, 9, 5, 7, 3, 1, 5, 1, 2, 4, 9, 3, 5, 6, 1,\n",
       "       3, 6, 7, 9, 0, 1, 9, 4, 1, 4, 3, 0, 9, 7, 2, 4, 0, 8, 9, 9, 9, 7,\n",
       "       4, 2, 1, 4, 9, 7, 7, 2, 7, 9, 4, 3, 9, 3, 2, 7, 4, 0, 9, 1, 6, 8,\n",
       "       7, 1, 2, 3, 8, 7, 2, 6, 7, 1, 3, 1, 6, 3, 9, 2, 8, 0, 0, 7, 9, 0,\n",
       "       9, 7, 1, 9, 8, 7, 0, 1, 4, 1, 8, 7, 9, 0, 5, 2, 0, 0, 3, 0, 1, 8,\n",
       "       2, 1, 6, 2, 9, 7, 7, 6, 8, 3, 7, 5, 0, 6, 1, 6, 3, 1, 1, 2, 4, 5,\n",
       "       1, 8, 5, 1, 2, 4, 9, 5, 5, 3, 5, 0, 5, 5, 4, 7, 1, 9, 7, 5, 9, 8,\n",
       "       9, 5, 8, 2, 3, 6, 9, 3, 1, 9, 1, 0, 3, 1, 0, 7, 3, 3])"
      ]
     },
     "execution_count": 53,
     "metadata": {},
     "output_type": "execute_result"
    }
   ],
   "source": [
    "%time my_clf.predict(X_test)"
   ]
  },
  {
   "cell_type": "code",
   "execution_count": 54,
   "metadata": {},
   "outputs": [
    {
     "name": "stdout",
     "output_type": "stream",
     "text": [
      "Wall time: 54.6 s\n"
     ]
    },
    {
     "data": {
      "text/plain": [
       "array([[0., 0., 0., ..., 0., 0., 1.],\n",
       "       [0., 0., 1., ..., 0., 0., 0.],\n",
       "       [0., 0., 0., ..., 1., 0., 0.],\n",
       "       ...,\n",
       "       [0., 0., 0., ..., 1., 0., 0.],\n",
       "       [0., 0., 0., ..., 0., 0., 0.],\n",
       "       [0., 0., 0., ..., 0., 0., 0.]])"
      ]
     },
     "execution_count": 54,
     "metadata": {},
     "output_type": "execute_result"
    }
   ],
   "source": [
    "%time clf.predict_proba(X_test)"
   ]
  },
  {
   "cell_type": "code",
   "execution_count": 55,
   "metadata": {},
   "outputs": [
    {
     "name": "stdout",
     "output_type": "stream",
     "text": [
      "Wall time: 3.15 s\n"
     ]
    },
    {
     "data": {
      "text/plain": [
       "array([[0., 0., 0., ..., 0., 0., 1.],\n",
       "       [0., 0., 1., ..., 0., 0., 0.],\n",
       "       [0., 0., 0., ..., 1., 0., 0.],\n",
       "       ...,\n",
       "       [0., 0., 0., ..., 1., 0., 0.],\n",
       "       [0., 0., 0., ..., 0., 0., 0.],\n",
       "       [0., 0., 0., ..., 0., 0., 0.]])"
      ]
     },
     "execution_count": 55,
     "metadata": {},
     "output_type": "execute_result"
    }
   ],
   "source": [
    " %time my_clf.predict_proba(X_test)"
   ]
  },
  {
   "cell_type": "code",
   "execution_count": 56,
   "metadata": {},
   "outputs": [
    {
     "data": {
      "text/plain": [
       "0.9742857142857143"
      ]
     },
     "execution_count": 56,
     "metadata": {},
     "output_type": "execute_result"
    }
   ],
   "source": [
    "clf.score(X_test, y_test)"
   ]
  },
  {
   "cell_type": "code",
   "execution_count": 57,
   "metadata": {},
   "outputs": [
    {
     "data": {
      "text/plain": [
       "0.9742857142857143"
      ]
     },
     "execution_count": 57,
     "metadata": {},
     "output_type": "execute_result"
    }
   ],
   "source": [
    "my_clf.score(X_test, y_test)"
   ]
  },
  {
   "cell_type": "markdown",
   "metadata": {},
   "source": [
    "Задание 4"
   ]
  },
  {
   "cell_type": "code",
   "execution_count": 58,
   "metadata": {},
   "outputs": [],
   "source": [
    "clf = KNeighborsClassifier(n_neighbors=Best_k, algorithm='kd_tree')\n",
    "my_clf = MyKNeighborsClassifier(n_neighbors=Best_k, algorithm='kd_tree')"
   ]
  },
  {
   "cell_type": "code",
   "execution_count": 59,
   "metadata": {},
   "outputs": [],
   "source": [
    "X_train, X_test, y_train, y_test = train_test_split(mnist.data, mnist.target, test_size=0.01, stratify=mnist.target)"
   ]
  },
  {
   "cell_type": "code",
   "execution_count": 60,
   "metadata": {},
   "outputs": [
    {
     "name": "stdout",
     "output_type": "stream",
     "text": [
      "Wall time: 45.2 s\n"
     ]
    },
    {
     "data": {
      "text/plain": [
       "KNeighborsClassifier(algorithm='kd_tree', leaf_size=30, metric='minkowski',\n",
       "           metric_params=None, n_jobs=None, n_neighbors=22, p=2,\n",
       "           weights='uniform')"
      ]
     },
     "execution_count": 60,
     "metadata": {},
     "output_type": "execute_result"
    }
   ],
   "source": [
    "%time clf.fit(X_train, y_train)"
   ]
  },
  {
   "cell_type": "code",
   "execution_count": 61,
   "metadata": {},
   "outputs": [
    {
     "name": "stdout",
     "output_type": "stream",
     "text": [
      "Wall time: 44.9 s\n"
     ]
    }
   ],
   "source": [
    "%time my_clf.fit(X_train, y_train)"
   ]
  },
  {
   "cell_type": "code",
   "execution_count": 62,
   "metadata": {},
   "outputs": [
    {
     "name": "stdout",
     "output_type": "stream",
     "text": [
      "Wall time: 55.2 s\n"
     ]
    },
    {
     "data": {
      "text/plain": [
       "array(['3', '8', '1', '8', '0', '7', '2', '2', '0', '6', '6', '4', '4',\n",
       "       '7', '1', '1', '0', '6', '1', '5', '7', '6', '9', '2', '0', '9',\n",
       "       '1', '6', '4', '7', '3', '1', '6', '8', '5', '9', '7', '0', '7',\n",
       "       '4', '3', '8', '0', '4', '0', '2', '0', '0', '1', '3', '5', '6',\n",
       "       '1', '1', '2', '4', '3', '8', '2', '8', '4', '8', '6', '9', '4',\n",
       "       '2', '6', '5', '1', '0', '4', '1', '5', '7', '5', '5', '7', '3',\n",
       "       '3', '5', '5', '1', '3', '4', '7', '5', '1', '4', '4', '6', '2',\n",
       "       '1', '3', '2', '4', '8', '1', '9', '9', '6', '3', '0', '5', '7',\n",
       "       '9', '1', '7', '6', '6', '4', '1', '5', '0', '9', '0', '4', '4',\n",
       "       '1', '7', '9', '3', '4', '3', '1', '5', '9', '9', '2', '1', '5',\n",
       "       '2', '7', '9', '3', '2', '9', '4', '6', '1', '6', '6', '6', '9',\n",
       "       '4', '7', '0', '4', '0', '3', '3', '1', '3', '8', '6', '9', '7',\n",
       "       '6', '8', '6', '2', '1', '5', '2', '1', '8', '9', '0', '6', '0',\n",
       "       '3', '1', '5', '6', '3', '2', '6', '1', '5', '5', '0', '1', '3',\n",
       "       '6', '7', '0', '7', '7', '2', '0', '7', '0', '4', '9', '3', '8',\n",
       "       '5', '4', '6', '4', '0', '6', '6', '6', '6', '4', '3', '1', '2',\n",
       "       '7', '0', '0', '9', '2', '4', '8', '1', '9', '9', '4', '6', '7',\n",
       "       '1', '9', '1', '7', '6', '1', '1', '0', '7', '7', '2', '0', '5',\n",
       "       '6', '3', '1', '0', '9', '3', '9', '6', '4', '0', '7', '8', '5',\n",
       "       '3', '8', '1', '7', '7', '8', '3', '2', '6', '3', '1', '0', '8',\n",
       "       '8', '1', '6', '7', '6', '8', '4', '2', '6', '4', '1', '2', '9',\n",
       "       '2', '6', '1', '4', '0', '7', '1', '4', '7', '3', '7', '2', '4',\n",
       "       '3', '0', '9', '4', '8', '0', '2', '5', '5', '9', '9', '9', '0',\n",
       "       '5', '1', '8', '4', '7', '0', '5', '8', '7', '2', '9', '2', '7',\n",
       "       '4', '2', '5', '6', '7', '5', '3', '4', '6', '1', '4', '7', '7',\n",
       "       '6', '2', '1', '1', '2', '0', '9', '9', '0', '0', '2', '7', '4',\n",
       "       '2', '0', '8', '0', '3', '1', '4', '8', '1', '6', '5', '7', '3',\n",
       "       '6', '9', '9', '9', '7', '8', '2', '5', '0', '7', '5', '9', '3',\n",
       "       '0', '5', '9', '1', '0', '3', '0', '4', '3', '1', '2', '5', '1',\n",
       "       '7', '5', '2', '3', '1', '5', '8', '4', '9', '7', '8', '5', '2',\n",
       "       '2', '6', '1', '7', '2', '3', '9', '7', '5', '0', '5', '8', '4',\n",
       "       '9', '0', '7', '8', '0', '3', '6', '0', '4', '2', '3', '7', '8',\n",
       "       '1', '5', '4', '5', '1', '5', '3', '2', '3', '8', '5', '3', '3',\n",
       "       '3', '3', '9', '0', '9', '1', '2', '3', '0', '8', '3', '3', '0',\n",
       "       '5', '4', '7', '5', '4', '3', '8', '6', '3', '9', '3', '3', '8',\n",
       "       '3', '9', '8', '0', '8', '6', '1', '6', '6', '8', '0', '7', '3',\n",
       "       '6', '9', '1', '5', '1', '3', '2', '1', '7', '8', '5', '5', '3',\n",
       "       '6', '2', '1', '1', '9', '0', '6', '7', '2', '5', '0', '9', '8',\n",
       "       '7', '6', '9', '1', '2', '4', '5', '1', '5', '8', '1', '2', '6',\n",
       "       '7', '4', '8', '6', '2', '7', '6', '1', '7', '4', '0', '2', '1',\n",
       "       '0', '2', '8', '2', '1', '5', '2', '3', '2', '4', '4', '6', '6',\n",
       "       '0', '2', '5', '4', '0', '5', '0', '7', '7', '9', '6', '5', '7',\n",
       "       '1', '0', '9', '0', '6', '7', '1', '4', '8', '2', '8', '0', '1',\n",
       "       '3', '9', '7', '9', '7', '6', '3', '8', '3', '3', '5', '7', '8',\n",
       "       '2', '0', '1', '8', '5', '6', '1', '4', '5', '4', '9', '4', '1',\n",
       "       '7', '0', '6', '9', '8', '1', '6', '1', '8', '1', '9', '2', '8',\n",
       "       '9', '7', '7', '7', '4', '7', '5', '3', '3', '7', '1', '1', '8',\n",
       "       '4', '7', '3', '8', '5', '4', '3', '5', '5', '8', '1', '8', '2',\n",
       "       '7', '9', '6', '0', '2', '7', '2', '1', '6', '3', '4', '8', '8',\n",
       "       '8', '8', '2', '1', '7', '4', '9', '1', '1', '0', '6', '4', '5',\n",
       "       '2', '9', '7', '4', '0', '9', '7', '6', '5', '7', '2', '3', '0',\n",
       "       '6', '0', '9', '3', '9', '2', '6', '8', '6', '9', '7', '2', '6',\n",
       "       '9', '4', '7', '4', '5', '3', '3', '8', '9', '2', '4', '9', '7',\n",
       "       '1', '8', '1', '9', '9', '7', '4', '8', '7', '1', '4'],\n",
       "      dtype=object)"
      ]
     },
     "execution_count": 62,
     "metadata": {},
     "output_type": "execute_result"
    }
   ],
   "source": [
    "%time clf.predict(X_test)"
   ]
  },
  {
   "cell_type": "code",
   "execution_count": 63,
   "metadata": {},
   "outputs": [
    {
     "name": "stdout",
     "output_type": "stream",
     "text": [
      "Wall time: 1min 27s\n"
     ]
    },
    {
     "data": {
      "text/plain": [
       "array([3, 8, 1, 8, 0, 7, 2, 2, 0, 6, 6, 4, 4, 7, 1, 1, 0, 6, 1, 5, 7, 6,\n",
       "       9, 2, 0, 9, 1, 6, 4, 7, 3, 1, 6, 8, 5, 9, 7, 0, 7, 4, 3, 8, 0, 4,\n",
       "       0, 2, 0, 0, 1, 3, 5, 6, 1, 1, 2, 4, 3, 8, 2, 8, 4, 8, 6, 9, 4, 2,\n",
       "       6, 5, 1, 0, 4, 1, 5, 7, 5, 5, 7, 3, 3, 5, 5, 1, 3, 4, 7, 5, 1, 4,\n",
       "       4, 6, 2, 1, 3, 2, 4, 8, 1, 9, 9, 6, 3, 0, 5, 7, 9, 1, 7, 6, 6, 4,\n",
       "       1, 5, 0, 9, 0, 4, 4, 1, 7, 9, 3, 4, 3, 1, 5, 9, 9, 2, 1, 5, 2, 7,\n",
       "       9, 3, 2, 9, 4, 6, 1, 6, 6, 6, 9, 4, 7, 0, 4, 0, 3, 3, 1, 3, 8, 6,\n",
       "       9, 7, 6, 8, 6, 2, 1, 5, 2, 1, 8, 9, 0, 6, 0, 3, 1, 5, 6, 3, 2, 6,\n",
       "       1, 5, 5, 0, 1, 3, 6, 7, 0, 7, 7, 2, 0, 7, 0, 4, 9, 3, 8, 5, 4, 6,\n",
       "       4, 0, 6, 6, 6, 6, 4, 3, 1, 2, 7, 0, 0, 9, 2, 4, 8, 1, 9, 9, 4, 6,\n",
       "       7, 1, 9, 1, 7, 6, 1, 1, 0, 7, 7, 2, 0, 5, 6, 3, 1, 0, 9, 3, 9, 6,\n",
       "       4, 0, 7, 8, 5, 3, 8, 1, 7, 7, 8, 3, 2, 6, 3, 1, 0, 8, 8, 1, 6, 7,\n",
       "       6, 8, 4, 2, 6, 4, 1, 2, 9, 2, 6, 1, 4, 0, 7, 1, 4, 7, 3, 7, 2, 4,\n",
       "       3, 0, 9, 4, 8, 0, 2, 5, 5, 9, 9, 9, 0, 5, 1, 8, 4, 7, 0, 5, 8, 7,\n",
       "       2, 9, 2, 7, 4, 2, 5, 6, 7, 5, 3, 4, 6, 1, 4, 7, 7, 6, 2, 1, 1, 2,\n",
       "       0, 9, 9, 0, 0, 2, 7, 4, 2, 0, 8, 0, 3, 1, 4, 8, 1, 6, 5, 7, 3, 6,\n",
       "       9, 9, 9, 7, 8, 2, 5, 0, 7, 5, 9, 3, 0, 5, 9, 1, 0, 3, 0, 4, 3, 1,\n",
       "       2, 5, 1, 7, 5, 2, 3, 1, 5, 8, 4, 9, 7, 8, 5, 2, 2, 6, 1, 7, 2, 3,\n",
       "       9, 7, 5, 0, 5, 8, 4, 9, 0, 7, 8, 0, 3, 6, 0, 4, 2, 3, 7, 8, 1, 5,\n",
       "       4, 5, 1, 5, 3, 2, 3, 8, 5, 3, 3, 3, 3, 9, 0, 9, 1, 2, 3, 0, 8, 3,\n",
       "       3, 0, 5, 4, 7, 5, 4, 3, 8, 6, 3, 9, 3, 3, 8, 3, 9, 8, 0, 8, 6, 1,\n",
       "       6, 6, 8, 0, 7, 3, 6, 9, 1, 5, 1, 3, 2, 1, 7, 8, 5, 5, 3, 6, 2, 1,\n",
       "       1, 9, 0, 6, 7, 2, 5, 0, 9, 8, 7, 6, 9, 1, 2, 4, 5, 1, 5, 8, 1, 2,\n",
       "       6, 7, 4, 8, 6, 2, 7, 6, 1, 7, 4, 0, 2, 1, 0, 2, 8, 2, 1, 5, 2, 3,\n",
       "       2, 4, 4, 6, 6, 0, 2, 5, 4, 0, 5, 0, 7, 7, 9, 6, 5, 7, 1, 0, 9, 0,\n",
       "       6, 7, 1, 4, 8, 2, 8, 0, 1, 3, 9, 7, 9, 7, 6, 3, 8, 3, 3, 5, 7, 8,\n",
       "       2, 0, 1, 8, 5, 6, 1, 4, 5, 4, 9, 4, 1, 7, 0, 6, 9, 8, 1, 6, 1, 8,\n",
       "       1, 9, 2, 8, 9, 7, 7, 7, 4, 7, 5, 3, 3, 7, 1, 1, 8, 4, 7, 3, 8, 5,\n",
       "       4, 3, 5, 5, 8, 1, 8, 2, 7, 9, 6, 0, 2, 7, 2, 1, 6, 3, 4, 8, 8, 8,\n",
       "       8, 2, 1, 7, 4, 9, 1, 1, 0, 6, 4, 5, 2, 9, 7, 4, 0, 9, 7, 6, 5, 7,\n",
       "       2, 3, 0, 6, 0, 9, 3, 9, 2, 6, 8, 6, 9, 7, 2, 6, 9, 4, 7, 4, 5, 3,\n",
       "       3, 8, 9, 2, 4, 9, 7, 1, 8, 1, 9, 9, 7, 4, 8, 7, 1, 4])"
      ]
     },
     "execution_count": 63,
     "metadata": {},
     "output_type": "execute_result"
    }
   ],
   "source": [
    "%time my_clf.predict(X_test)"
   ]
  },
  {
   "cell_type": "code",
   "execution_count": 64,
   "metadata": {},
   "outputs": [
    {
     "name": "stdout",
     "output_type": "stream",
     "text": [
      "Wall time: 54.6 s\n"
     ]
    },
    {
     "data": {
      "text/plain": [
       "array([[0.        , 0.        , 0.        , ..., 0.        , 0.        ,\n",
       "        0.        ],\n",
       "       [0.        , 0.36363636, 0.        , ..., 0.13636364, 0.5       ,\n",
       "        0.        ],\n",
       "       [0.        , 1.        , 0.        , ..., 0.        , 0.        ,\n",
       "        0.        ],\n",
       "       ...,\n",
       "       [0.        , 0.        , 0.        , ..., 1.        , 0.        ,\n",
       "        0.        ],\n",
       "       [0.        , 1.        , 0.        , ..., 0.        , 0.        ,\n",
       "        0.        ],\n",
       "       [0.        , 0.        , 0.        , ..., 0.04545455, 0.        ,\n",
       "        0.        ]])"
      ]
     },
     "execution_count": 64,
     "metadata": {},
     "output_type": "execute_result"
    }
   ],
   "source": [
    "%time clf.predict_proba(X_test)"
   ]
  },
  {
   "cell_type": "code",
   "execution_count": 65,
   "metadata": {},
   "outputs": [
    {
     "name": "stdout",
     "output_type": "stream",
     "text": [
      "Wall time: 43.8 s\n"
     ]
    },
    {
     "data": {
      "text/plain": [
       "array([[0.        , 0.        , 0.        , ..., 0.        , 0.        ,\n",
       "        0.        ],\n",
       "       [0.        , 0.36363636, 0.        , ..., 0.13636364, 0.5       ,\n",
       "        0.        ],\n",
       "       [0.        , 1.        , 0.        , ..., 0.        , 0.        ,\n",
       "        0.        ],\n",
       "       ...,\n",
       "       [0.        , 0.        , 0.        , ..., 1.        , 0.        ,\n",
       "        0.        ],\n",
       "       [0.        , 1.        , 0.        , ..., 0.        , 0.        ,\n",
       "        0.        ],\n",
       "       [0.        , 0.        , 0.        , ..., 0.04545455, 0.        ,\n",
       "        0.        ]])"
      ]
     },
     "execution_count": 65,
     "metadata": {},
     "output_type": "execute_result"
    }
   ],
   "source": [
    "%time my_clf.predict_proba(X_test)"
   ]
  },
  {
   "cell_type": "code",
   "execution_count": 66,
   "metadata": {},
   "outputs": [
    {
     "data": {
      "text/plain": [
       "0.9628571428571429"
      ]
     },
     "execution_count": 66,
     "metadata": {},
     "output_type": "execute_result"
    }
   ],
   "source": [
    "clf.score(X_test, y_test)"
   ]
  },
  {
   "cell_type": "code",
   "execution_count": 67,
   "metadata": {},
   "outputs": [
    {
     "data": {
      "text/plain": [
       "0.9628571428571429"
      ]
     },
     "execution_count": 67,
     "metadata": {},
     "output_type": "execute_result"
    }
   ],
   "source": [
    "my_clf.score(X_test, y_test)"
   ]
  },
  {
   "cell_type": "markdown",
   "metadata": {},
   "source": [
    "Задание 5"
   ]
  },
  {
   "cell_type": "code",
   "execution_count": 68,
   "metadata": {},
   "outputs": [],
   "source": [
    "# seaborn это библиотека для визуализации данных основанная на matplotlib\n",
    "# matplotlib библиотека с широкими возмоджностями визуализации данных\n",
    "# train_test_split функция которая разделяет данные на тестовую и тренировочную часть в заданной пропорции. Данные по умолчанию перемешиваются\n",
    "# Pipelin%load_ext e (from sklearn.pipeline import Pipeline) 'конвеер' для последовательной работы несокольких моделей.\n",
    "# StandardScaler (from sklearn.preprocessing import StandardScaler) класс котоырй предоставляет возможность преоброзовать данные так, что срелнее будет равно 0, а стандартное отклонение 1.\n",
    "# ClassifierMixin класс от которога наследуются все класификаторы в sklearn, в нем содержится метод score\n",
    "# NeighborsBase базовый класс для моделей использующих метод k-ближайших соседей\n",
    "# KNeighborsMixin класс для поиска k ближайших соседей. В нем реализуется метод kneighbors который ищет k ближайших соседей(их индексы) и расстояния до них.\n",
    "# SupervisedIntegerMixin класс в котором реализован метод fit для обучения с учителем."
   ]
  }
 ],
 "metadata": {
  "kernelspec": {
   "display_name": "Python 3",
   "language": "python",
   "name": "python3"
  },
  "language_info": {
   "codemirror_mode": {
    "name": "ipython",
    "version": 3
   },
   "file_extension": ".py",
   "mimetype": "text/x-python",
   "name": "python",
   "nbconvert_exporter": "python",
   "pygments_lexer": "ipython3",
   "version": "3.6.8"
  }
 },
 "nbformat": 4,
 "nbformat_minor": 2
}
